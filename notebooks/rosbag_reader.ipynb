{
 "cells": [
  {
   "cell_type": "markdown",
   "metadata": {},
   "source": [
    "# ROSBAG reader helper notebook for ROSBAG 2 files"
   ]
  },
  {
   "cell_type": "markdown",
   "metadata": {},
   "source": [
    "The notebook helps to read rosbag 2 files, and collect mesages for the same timestamp. Please install dependencies first!"
   ]
  },
  {
   "cell_type": "code",
   "execution_count": null,
   "metadata": {},
   "outputs": [],
   "source": [
    "!pip install -r ../requirements.txt"
   ]
  },
  {
   "cell_type": "code",
   "execution_count": null,
   "metadata": {},
   "outputs": [],
   "source": [
    "from rosbags.rosbag2 import Reader\n",
    "from rosbags.serde import deserialize_cdr\n",
    "import itertools\n",
    "import collections\n",
    "import numpy as np\n",
    "import matplotlib.pyplot as plt\n",
    "import cv2"
   ]
  },
  {
   "cell_type": "code",
   "execution_count": null,
   "metadata": {},
   "outputs": [],
   "source": [
    "filename = '/tmp/rosbag/'\n",
    "with Reader(filename) as reader:\n",
    "    print(reader.start_time/1e9)\n",
    "    print(reader.end_time/1e9)"
   ]
  },
  {
   "cell_type": "code",
   "execution_count": null,
   "metadata": {},
   "outputs": [],
   "source": [
    "data_all = collections.OrderedDict()\n",
    "with Reader(filename) as reader:\n",
    "    for connection, timestamp, rawdata in itertools.islice(reader.messages(start = 1712752798_910_351_800),50):  # start = 1712752801_000_000_000\n",
    "        try:\n",
    "            b = deserialize_cdr(rawdata, connection.msgtype)\n",
    "            ts = b.header.stamp.sec * 1000000000 + b.header.stamp.nanosec\n",
    "\n",
    "            if ts not in data_all:\n",
    "                data_all[ts] = {}\n",
    "\n",
    "            data_all[ts][connection.topic] = b\n",
    "        except:\n",
    "            pass\n",
    "\n",
    "data = {k: v for k,v in data_all.items() if '/camera/aligned_depth_to_color/image_raw' in v and \n",
    "                                        '/camera/color/image_raw' in v and\n",
    "                                         '/camera/aligned_depth_to_color/camera_info' in v }\n",
    "                \n",
    "for k,v in data.items():\n",
    "    print(k)\n",
    "    for o in v.keys():\n",
    "        print(f'  {o}')"
   ]
  },
  {
   "cell_type": "code",
   "execution_count": null,
   "metadata": {},
   "outputs": [],
   "source": [
    "data_entry = data[list(data.keys())[0]]\n",
    "img_raw = data_entry['/camera/color/image_raw']\n",
    "color_img = np.frombuffer(img_raw.data, dtype = np.uint8).reshape(img_raw.height, img_raw.width,3)\n",
    "depth_raw = data_entry['/camera/aligned_depth_to_color/image_raw']\n",
    "depth_img = np.frombuffer(depth_raw.data, dtype = np.uint16).reshape(depth_raw.height, depth_raw.width)\n",
    "Kdepth = data_entry['/camera/aligned_depth_to_color/camera_info'].k.reshape(3,3)"
   ]
  },
  {
   "cell_type": "code",
   "execution_count": null,
   "metadata": {},
   "outputs": [],
   "source": [
    "plt.imshow(color_img)"
   ]
  },
  {
   "cell_type": "code",
   "execution_count": null,
   "metadata": {},
   "outputs": [],
   "source": [
    "cv2.imwrite('../asset/example_image.png',color_img)\n",
    "cv2.imwrite('../asset/example_depth.png',depth_img)"
   ]
  },
  {
   "cell_type": "code",
   "execution_count": null,
   "metadata": {},
   "outputs": [],
   "source": [
    "Kdepth"
   ]
  }
 ],
 "metadata": {
  "kernelspec": {
   "display_name": ".venv",
   "language": "python",
   "name": "python3"
  },
  "language_info": {
   "codemirror_mode": {
    "name": "ipython",
    "version": 3
   },
   "file_extension": ".py",
   "mimetype": "text/x-python",
   "name": "python",
   "nbconvert_exporter": "python",
   "pygments_lexer": "ipython3",
   "version": "3.8.10"
  }
 },
 "nbformat": 4,
 "nbformat_minor": 2
}
